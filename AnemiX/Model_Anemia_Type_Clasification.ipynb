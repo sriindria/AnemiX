{
  "nbformat": 4,
  "nbformat_minor": 0,
  "metadata": {
    "colab": {
      "provenance": [],
      "gpuType": "T4",
      "collapsed_sections": [
        "7xkUz1P1AdJ8",
        "3JqH1Qw8AoXP",
        "uMOdWf0nCUl-",
        "31KjdW8XC5cB",
        "aciPsEPFD4ZR",
        "cUDWF_kcFIHv",
        "4qFYX6eOGIZo",
        "CrEcJ7foIRsq",
        "P5dCrY1fJpHS"
      ]
    },
    "kernelspec": {
      "name": "python3",
      "display_name": "Python 3"
    },
    "language_info": {
      "name": "python"
    },
    "accelerator": "GPU"
  },
  "cells": [
    {
      "cell_type": "markdown",
      "source": [
        "# Download Dataset dari Kaggle"
      ],
      "metadata": {
        "id": "7xkUz1P1AdJ8"
      }
    },
    {
      "cell_type": "code",
      "execution_count": null,
      "metadata": {
        "colab": {
          "base_uri": "https://localhost:8080/",
          "height": 89
        },
        "id": "0DCXblocAClJ",
        "outputId": "5e259194-98f5-4e21-f9ec-682792261aec"
      },
      "outputs": [
        {
          "output_type": "display_data",
          "data": {
            "text/plain": [
              "<IPython.core.display.HTML object>"
            ],
            "text/html": [
              "\n",
              "     <input type=\"file\" id=\"files-347c6119-886c-46dd-8d24-602d8aed5f4d\" name=\"files[]\" multiple disabled\n",
              "        style=\"border:none\" />\n",
              "     <output id=\"result-347c6119-886c-46dd-8d24-602d8aed5f4d\">\n",
              "      Upload widget is only available when the cell has been executed in the\n",
              "      current browser session. Please rerun this cell to enable.\n",
              "      </output>\n",
              "      <script>// Copyright 2017 Google LLC\n",
              "//\n",
              "// Licensed under the Apache License, Version 2.0 (the \"License\");\n",
              "// you may not use this file except in compliance with the License.\n",
              "// You may obtain a copy of the License at\n",
              "//\n",
              "//      http://www.apache.org/licenses/LICENSE-2.0\n",
              "//\n",
              "// Unless required by applicable law or agreed to in writing, software\n",
              "// distributed under the License is distributed on an \"AS IS\" BASIS,\n",
              "// WITHOUT WARRANTIES OR CONDITIONS OF ANY KIND, either express or implied.\n",
              "// See the License for the specific language governing permissions and\n",
              "// limitations under the License.\n",
              "\n",
              "/**\n",
              " * @fileoverview Helpers for google.colab Python module.\n",
              " */\n",
              "(function(scope) {\n",
              "function span(text, styleAttributes = {}) {\n",
              "  const element = document.createElement('span');\n",
              "  element.textContent = text;\n",
              "  for (const key of Object.keys(styleAttributes)) {\n",
              "    element.style[key] = styleAttributes[key];\n",
              "  }\n",
              "  return element;\n",
              "}\n",
              "\n",
              "// Max number of bytes which will be uploaded at a time.\n",
              "const MAX_PAYLOAD_SIZE = 100 * 1024;\n",
              "\n",
              "function _uploadFiles(inputId, outputId) {\n",
              "  const steps = uploadFilesStep(inputId, outputId);\n",
              "  const outputElement = document.getElementById(outputId);\n",
              "  // Cache steps on the outputElement to make it available for the next call\n",
              "  // to uploadFilesContinue from Python.\n",
              "  outputElement.steps = steps;\n",
              "\n",
              "  return _uploadFilesContinue(outputId);\n",
              "}\n",
              "\n",
              "// This is roughly an async generator (not supported in the browser yet),\n",
              "// where there are multiple asynchronous steps and the Python side is going\n",
              "// to poll for completion of each step.\n",
              "// This uses a Promise to block the python side on completion of each step,\n",
              "// then passes the result of the previous step as the input to the next step.\n",
              "function _uploadFilesContinue(outputId) {\n",
              "  const outputElement = document.getElementById(outputId);\n",
              "  const steps = outputElement.steps;\n",
              "\n",
              "  const next = steps.next(outputElement.lastPromiseValue);\n",
              "  return Promise.resolve(next.value.promise).then((value) => {\n",
              "    // Cache the last promise value to make it available to the next\n",
              "    // step of the generator.\n",
              "    outputElement.lastPromiseValue = value;\n",
              "    return next.value.response;\n",
              "  });\n",
              "}\n",
              "\n",
              "/**\n",
              " * Generator function which is called between each async step of the upload\n",
              " * process.\n",
              " * @param {string} inputId Element ID of the input file picker element.\n",
              " * @param {string} outputId Element ID of the output display.\n",
              " * @return {!Iterable<!Object>} Iterable of next steps.\n",
              " */\n",
              "function* uploadFilesStep(inputId, outputId) {\n",
              "  const inputElement = document.getElementById(inputId);\n",
              "  inputElement.disabled = false;\n",
              "\n",
              "  const outputElement = document.getElementById(outputId);\n",
              "  outputElement.innerHTML = '';\n",
              "\n",
              "  const pickedPromise = new Promise((resolve) => {\n",
              "    inputElement.addEventListener('change', (e) => {\n",
              "      resolve(e.target.files);\n",
              "    });\n",
              "  });\n",
              "\n",
              "  const cancel = document.createElement('button');\n",
              "  inputElement.parentElement.appendChild(cancel);\n",
              "  cancel.textContent = 'Cancel upload';\n",
              "  const cancelPromise = new Promise((resolve) => {\n",
              "    cancel.onclick = () => {\n",
              "      resolve(null);\n",
              "    };\n",
              "  });\n",
              "\n",
              "  // Wait for the user to pick the files.\n",
              "  const files = yield {\n",
              "    promise: Promise.race([pickedPromise, cancelPromise]),\n",
              "    response: {\n",
              "      action: 'starting',\n",
              "    }\n",
              "  };\n",
              "\n",
              "  cancel.remove();\n",
              "\n",
              "  // Disable the input element since further picks are not allowed.\n",
              "  inputElement.disabled = true;\n",
              "\n",
              "  if (!files) {\n",
              "    return {\n",
              "      response: {\n",
              "        action: 'complete',\n",
              "      }\n",
              "    };\n",
              "  }\n",
              "\n",
              "  for (const file of files) {\n",
              "    const li = document.createElement('li');\n",
              "    li.append(span(file.name, {fontWeight: 'bold'}));\n",
              "    li.append(span(\n",
              "        `(${file.type || 'n/a'}) - ${file.size} bytes, ` +\n",
              "        `last modified: ${\n",
              "            file.lastModifiedDate ? file.lastModifiedDate.toLocaleDateString() :\n",
              "                                    'n/a'} - `));\n",
              "    const percent = span('0% done');\n",
              "    li.appendChild(percent);\n",
              "\n",
              "    outputElement.appendChild(li);\n",
              "\n",
              "    const fileDataPromise = new Promise((resolve) => {\n",
              "      const reader = new FileReader();\n",
              "      reader.onload = (e) => {\n",
              "        resolve(e.target.result);\n",
              "      };\n",
              "      reader.readAsArrayBuffer(file);\n",
              "    });\n",
              "    // Wait for the data to be ready.\n",
              "    let fileData = yield {\n",
              "      promise: fileDataPromise,\n",
              "      response: {\n",
              "        action: 'continue',\n",
              "      }\n",
              "    };\n",
              "\n",
              "    // Use a chunked sending to avoid message size limits. See b/62115660.\n",
              "    let position = 0;\n",
              "    do {\n",
              "      const length = Math.min(fileData.byteLength - position, MAX_PAYLOAD_SIZE);\n",
              "      const chunk = new Uint8Array(fileData, position, length);\n",
              "      position += length;\n",
              "\n",
              "      const base64 = btoa(String.fromCharCode.apply(null, chunk));\n",
              "      yield {\n",
              "        response: {\n",
              "          action: 'append',\n",
              "          file: file.name,\n",
              "          data: base64,\n",
              "        },\n",
              "      };\n",
              "\n",
              "      let percentDone = fileData.byteLength === 0 ?\n",
              "          100 :\n",
              "          Math.round((position / fileData.byteLength) * 100);\n",
              "      percent.textContent = `${percentDone}% done`;\n",
              "\n",
              "    } while (position < fileData.byteLength);\n",
              "  }\n",
              "\n",
              "  // All done.\n",
              "  yield {\n",
              "    response: {\n",
              "      action: 'complete',\n",
              "    }\n",
              "  };\n",
              "}\n",
              "\n",
              "scope.google = scope.google || {};\n",
              "scope.google.colab = scope.google.colab || {};\n",
              "scope.google.colab._files = {\n",
              "  _uploadFiles,\n",
              "  _uploadFilesContinue,\n",
              "};\n",
              "})(self);\n",
              "</script> "
            ]
          },
          "metadata": {}
        },
        {
          "output_type": "stream",
          "name": "stdout",
          "text": [
            "Saving kaggle.json to kaggle.json\n"
          ]
        },
        {
          "output_type": "execute_result",
          "data": {
            "text/plain": [
              "{'kaggle.json': b'{\"username\":\"sriindria\",\"key\":\"0259f5237d915133ff46050847753060\"}'}"
            ]
          },
          "metadata": {},
          "execution_count": 1
        }
      ],
      "source": [
        "from google.colab import files\n",
        "files.upload()"
      ]
    },
    {
      "cell_type": "code",
      "source": [
        "!mkdir -p ~/.kaggle\n",
        "!cp kaggle.json ~/.kaggle/\n",
        "!chmod 600 ~/.kaggle/kaggle.json\n",
        "!ls ~/.kaggle"
      ],
      "metadata": {
        "colab": {
          "base_uri": "https://localhost:8080/"
        },
        "id": "gy0VvXkXAuKc",
        "outputId": "25ee7a27-6524-47b4-c211-306e279dca1f"
      },
      "execution_count": null,
      "outputs": [
        {
          "output_type": "stream",
          "name": "stdout",
          "text": [
            "kaggle.json\n"
          ]
        }
      ]
    },
    {
      "cell_type": "code",
      "source": [
        "!kaggle datasets download -d ehababoelnaga/anemia-types-classification"
      ],
      "metadata": {
        "colab": {
          "base_uri": "https://localhost:8080/"
        },
        "id": "6Dd6D-QHAm5_",
        "outputId": "89ca3f37-5e9f-47bd-fd19-cdd1f1b1b3c6"
      },
      "execution_count": null,
      "outputs": [
        {
          "output_type": "stream",
          "name": "stdout",
          "text": [
            "Dataset URL: https://www.kaggle.com/datasets/ehababoelnaga/anemia-types-classification\n",
            "License(s): Apache 2.0\n",
            "Downloading anemia-types-classification.zip to /content\n",
            "  0% 0.00/21.7k [00:00<?, ?B/s]\n",
            "100% 21.7k/21.7k [00:00<00:00, 20.7MB/s]\n"
          ]
        }
      ]
    },
    {
      "cell_type": "code",
      "source": [
        "!mkdir anemia-types-classification\n",
        "!unzip anemia-types-classification.zip -d anemia-types-classification\n",
        "!ls anemia-types-classification"
      ],
      "metadata": {
        "colab": {
          "base_uri": "https://localhost:8080/"
        },
        "id": "sDRp__1uAwZG",
        "outputId": "9cdf2f82-0678-42fb-c5bf-d749437e70dc"
      },
      "execution_count": null,
      "outputs": [
        {
          "output_type": "stream",
          "name": "stdout",
          "text": [
            "Archive:  anemia-types-classification.zip\n",
            "  inflating: anemia-types-classification/diagnosed_cbc_data_v4.csv  \n",
            "diagnosed_cbc_data_v4.csv\n"
          ]
        }
      ]
    },
    {
      "cell_type": "markdown",
      "source": [
        "# Import Library"
      ],
      "metadata": {
        "id": "3JqH1Qw8AoXP"
      }
    },
    {
      "cell_type": "code",
      "source": [
        "import pandas as pd\n",
        "import numpy as np\n",
        "import matplotlib.pyplot as plt\n",
        "\n",
        "from sklearn.preprocessing import LabelEncoder\n",
        "from sklearn.model_selection import train_test_split\n",
        "from sklearn.metrics import accuracy_score\n",
        "\n",
        "import tensorflow as tf\n",
        "from tensorflow.keras.layers import Dense, Activation\n",
        "from tensorflow.keras.models import Sequential\n",
        "from tensorflow.keras.utils import plot_model\n",
        "from tensorflow.keras.optimizers import Adam"
      ],
      "metadata": {
        "id": "36WDexGBA0Hj"
      },
      "execution_count": null,
      "outputs": []
    },
    {
      "cell_type": "markdown",
      "source": [
        "# Load Dataset"
      ],
      "metadata": {
        "id": "uMOdWf0nCUl-"
      }
    },
    {
      "cell_type": "code",
      "source": [
        "df = pd.read_csv('anemia-types-classification/diagnosed_cbc_data_v4.csv')"
      ],
      "metadata": {
        "id": "y0s-2Ia6CTkn"
      },
      "execution_count": null,
      "outputs": []
    },
    {
      "cell_type": "markdown",
      "source": [
        "# Eksplorasi Dataset"
      ],
      "metadata": {
        "id": "31KjdW8XC5cB"
      }
    },
    {
      "cell_type": "code",
      "source": [
        "# Menampilkan beberapa baris pertama dari dataframe\n",
        "df.head()"
      ],
      "metadata": {
        "colab": {
          "base_uri": "https://localhost:8080/",
          "height": 206
        },
        "id": "qNfve9etC39y",
        "outputId": "135815d4-87a7-434d-e1b3-eb71625d6c81"
      },
      "execution_count": null,
      "outputs": [
        {
          "output_type": "execute_result",
          "data": {
            "text/plain": [
              "    WBC  LYMp  NEUTp  LYMn  NEUTn   RBC  HGB    HCT   MCV   MCH  MCHC    PLT  \\\n",
              "0  10.0  43.2   50.1   4.3    5.0  2.77  7.3   24.2  87.7  26.3  30.1  189.0   \n",
              "1  10.0  42.4   52.3   4.2    5.3  2.84  7.3   25.0  88.2  25.7  20.2  180.0   \n",
              "2   7.2  30.7   60.7   2.2    4.4  3.97  9.0   30.5  77.0  22.6  29.5  148.0   \n",
              "3   6.0  30.2   63.5   1.8    3.8  4.22  3.8   32.8  77.9  23.2  29.8  143.0   \n",
              "4   4.2  39.1   53.7   1.6    2.3  3.93  0.4  316.0  80.6  23.9  29.7  236.0   \n",
              "\n",
              "    PDW   PCT                      Diagnosis  \n",
              "0  12.5  0.17  Normocytic hypochromic anemia  \n",
              "1  12.5  0.16  Normocytic hypochromic anemia  \n",
              "2  14.3  0.14         Iron deficiency anemia  \n",
              "3  11.3  0.12         Iron deficiency anemia  \n",
              "4  12.8  0.22  Normocytic hypochromic anemia  "
            ],
            "text/html": [
              "\n",
              "  <div id=\"df-5eaef53d-67fd-4066-9d3c-bddd9863010b\" class=\"colab-df-container\">\n",
              "    <div>\n",
              "<style scoped>\n",
              "    .dataframe tbody tr th:only-of-type {\n",
              "        vertical-align: middle;\n",
              "    }\n",
              "\n",
              "    .dataframe tbody tr th {\n",
              "        vertical-align: top;\n",
              "    }\n",
              "\n",
              "    .dataframe thead th {\n",
              "        text-align: right;\n",
              "    }\n",
              "</style>\n",
              "<table border=\"1\" class=\"dataframe\">\n",
              "  <thead>\n",
              "    <tr style=\"text-align: right;\">\n",
              "      <th></th>\n",
              "      <th>WBC</th>\n",
              "      <th>LYMp</th>\n",
              "      <th>NEUTp</th>\n",
              "      <th>LYMn</th>\n",
              "      <th>NEUTn</th>\n",
              "      <th>RBC</th>\n",
              "      <th>HGB</th>\n",
              "      <th>HCT</th>\n",
              "      <th>MCV</th>\n",
              "      <th>MCH</th>\n",
              "      <th>MCHC</th>\n",
              "      <th>PLT</th>\n",
              "      <th>PDW</th>\n",
              "      <th>PCT</th>\n",
              "      <th>Diagnosis</th>\n",
              "    </tr>\n",
              "  </thead>\n",
              "  <tbody>\n",
              "    <tr>\n",
              "      <th>0</th>\n",
              "      <td>10.0</td>\n",
              "      <td>43.2</td>\n",
              "      <td>50.1</td>\n",
              "      <td>4.3</td>\n",
              "      <td>5.0</td>\n",
              "      <td>2.77</td>\n",
              "      <td>7.3</td>\n",
              "      <td>24.2</td>\n",
              "      <td>87.7</td>\n",
              "      <td>26.3</td>\n",
              "      <td>30.1</td>\n",
              "      <td>189.0</td>\n",
              "      <td>12.5</td>\n",
              "      <td>0.17</td>\n",
              "      <td>Normocytic hypochromic anemia</td>\n",
              "    </tr>\n",
              "    <tr>\n",
              "      <th>1</th>\n",
              "      <td>10.0</td>\n",
              "      <td>42.4</td>\n",
              "      <td>52.3</td>\n",
              "      <td>4.2</td>\n",
              "      <td>5.3</td>\n",
              "      <td>2.84</td>\n",
              "      <td>7.3</td>\n",
              "      <td>25.0</td>\n",
              "      <td>88.2</td>\n",
              "      <td>25.7</td>\n",
              "      <td>20.2</td>\n",
              "      <td>180.0</td>\n",
              "      <td>12.5</td>\n",
              "      <td>0.16</td>\n",
              "      <td>Normocytic hypochromic anemia</td>\n",
              "    </tr>\n",
              "    <tr>\n",
              "      <th>2</th>\n",
              "      <td>7.2</td>\n",
              "      <td>30.7</td>\n",
              "      <td>60.7</td>\n",
              "      <td>2.2</td>\n",
              "      <td>4.4</td>\n",
              "      <td>3.97</td>\n",
              "      <td>9.0</td>\n",
              "      <td>30.5</td>\n",
              "      <td>77.0</td>\n",
              "      <td>22.6</td>\n",
              "      <td>29.5</td>\n",
              "      <td>148.0</td>\n",
              "      <td>14.3</td>\n",
              "      <td>0.14</td>\n",
              "      <td>Iron deficiency anemia</td>\n",
              "    </tr>\n",
              "    <tr>\n",
              "      <th>3</th>\n",
              "      <td>6.0</td>\n",
              "      <td>30.2</td>\n",
              "      <td>63.5</td>\n",
              "      <td>1.8</td>\n",
              "      <td>3.8</td>\n",
              "      <td>4.22</td>\n",
              "      <td>3.8</td>\n",
              "      <td>32.8</td>\n",
              "      <td>77.9</td>\n",
              "      <td>23.2</td>\n",
              "      <td>29.8</td>\n",
              "      <td>143.0</td>\n",
              "      <td>11.3</td>\n",
              "      <td>0.12</td>\n",
              "      <td>Iron deficiency anemia</td>\n",
              "    </tr>\n",
              "    <tr>\n",
              "      <th>4</th>\n",
              "      <td>4.2</td>\n",
              "      <td>39.1</td>\n",
              "      <td>53.7</td>\n",
              "      <td>1.6</td>\n",
              "      <td>2.3</td>\n",
              "      <td>3.93</td>\n",
              "      <td>0.4</td>\n",
              "      <td>316.0</td>\n",
              "      <td>80.6</td>\n",
              "      <td>23.9</td>\n",
              "      <td>29.7</td>\n",
              "      <td>236.0</td>\n",
              "      <td>12.8</td>\n",
              "      <td>0.22</td>\n",
              "      <td>Normocytic hypochromic anemia</td>\n",
              "    </tr>\n",
              "  </tbody>\n",
              "</table>\n",
              "</div>\n",
              "    <div class=\"colab-df-buttons\">\n",
              "\n",
              "  <div class=\"colab-df-container\">\n",
              "    <button class=\"colab-df-convert\" onclick=\"convertToInteractive('df-5eaef53d-67fd-4066-9d3c-bddd9863010b')\"\n",
              "            title=\"Convert this dataframe to an interactive table.\"\n",
              "            style=\"display:none;\">\n",
              "\n",
              "  <svg xmlns=\"http://www.w3.org/2000/svg\" height=\"24px\" viewBox=\"0 -960 960 960\">\n",
              "    <path d=\"M120-120v-720h720v720H120Zm60-500h600v-160H180v160Zm220 220h160v-160H400v160Zm0 220h160v-160H400v160ZM180-400h160v-160H180v160Zm440 0h160v-160H620v160ZM180-180h160v-160H180v160Zm440 0h160v-160H620v160Z\"/>\n",
              "  </svg>\n",
              "    </button>\n",
              "\n",
              "  <style>\n",
              "    .colab-df-container {\n",
              "      display:flex;\n",
              "      gap: 12px;\n",
              "    }\n",
              "\n",
              "    .colab-df-convert {\n",
              "      background-color: #E8F0FE;\n",
              "      border: none;\n",
              "      border-radius: 50%;\n",
              "      cursor: pointer;\n",
              "      display: none;\n",
              "      fill: #1967D2;\n",
              "      height: 32px;\n",
              "      padding: 0 0 0 0;\n",
              "      width: 32px;\n",
              "    }\n",
              "\n",
              "    .colab-df-convert:hover {\n",
              "      background-color: #E2EBFA;\n",
              "      box-shadow: 0px 1px 2px rgba(60, 64, 67, 0.3), 0px 1px 3px 1px rgba(60, 64, 67, 0.15);\n",
              "      fill: #174EA6;\n",
              "    }\n",
              "\n",
              "    .colab-df-buttons div {\n",
              "      margin-bottom: 4px;\n",
              "    }\n",
              "\n",
              "    [theme=dark] .colab-df-convert {\n",
              "      background-color: #3B4455;\n",
              "      fill: #D2E3FC;\n",
              "    }\n",
              "\n",
              "    [theme=dark] .colab-df-convert:hover {\n",
              "      background-color: #434B5C;\n",
              "      box-shadow: 0px 1px 3px 1px rgba(0, 0, 0, 0.15);\n",
              "      filter: drop-shadow(0px 1px 2px rgba(0, 0, 0, 0.3));\n",
              "      fill: #FFFFFF;\n",
              "    }\n",
              "  </style>\n",
              "\n",
              "    <script>\n",
              "      const buttonEl =\n",
              "        document.querySelector('#df-5eaef53d-67fd-4066-9d3c-bddd9863010b button.colab-df-convert');\n",
              "      buttonEl.style.display =\n",
              "        google.colab.kernel.accessAllowed ? 'block' : 'none';\n",
              "\n",
              "      async function convertToInteractive(key) {\n",
              "        const element = document.querySelector('#df-5eaef53d-67fd-4066-9d3c-bddd9863010b');\n",
              "        const dataTable =\n",
              "          await google.colab.kernel.invokeFunction('convertToInteractive',\n",
              "                                                    [key], {});\n",
              "        if (!dataTable) return;\n",
              "\n",
              "        const docLinkHtml = 'Like what you see? Visit the ' +\n",
              "          '<a target=\"_blank\" href=https://colab.research.google.com/notebooks/data_table.ipynb>data table notebook</a>'\n",
              "          + ' to learn more about interactive tables.';\n",
              "        element.innerHTML = '';\n",
              "        dataTable['output_type'] = 'display_data';\n",
              "        await google.colab.output.renderOutput(dataTable, element);\n",
              "        const docLink = document.createElement('div');\n",
              "        docLink.innerHTML = docLinkHtml;\n",
              "        element.appendChild(docLink);\n",
              "      }\n",
              "    </script>\n",
              "  </div>\n",
              "\n",
              "\n",
              "<div id=\"df-9e3e2c20-f638-4f6d-8677-adee303a6658\">\n",
              "  <button class=\"colab-df-quickchart\" onclick=\"quickchart('df-9e3e2c20-f638-4f6d-8677-adee303a6658')\"\n",
              "            title=\"Suggest charts\"\n",
              "            style=\"display:none;\">\n",
              "\n",
              "<svg xmlns=\"http://www.w3.org/2000/svg\" height=\"24px\"viewBox=\"0 0 24 24\"\n",
              "     width=\"24px\">\n",
              "    <g>\n",
              "        <path d=\"M19 3H5c-1.1 0-2 .9-2 2v14c0 1.1.9 2 2 2h14c1.1 0 2-.9 2-2V5c0-1.1-.9-2-2-2zM9 17H7v-7h2v7zm4 0h-2V7h2v10zm4 0h-2v-4h2v4z\"/>\n",
              "    </g>\n",
              "</svg>\n",
              "  </button>\n",
              "\n",
              "<style>\n",
              "  .colab-df-quickchart {\n",
              "      --bg-color: #E8F0FE;\n",
              "      --fill-color: #1967D2;\n",
              "      --hover-bg-color: #E2EBFA;\n",
              "      --hover-fill-color: #174EA6;\n",
              "      --disabled-fill-color: #AAA;\n",
              "      --disabled-bg-color: #DDD;\n",
              "  }\n",
              "\n",
              "  [theme=dark] .colab-df-quickchart {\n",
              "      --bg-color: #3B4455;\n",
              "      --fill-color: #D2E3FC;\n",
              "      --hover-bg-color: #434B5C;\n",
              "      --hover-fill-color: #FFFFFF;\n",
              "      --disabled-bg-color: #3B4455;\n",
              "      --disabled-fill-color: #666;\n",
              "  }\n",
              "\n",
              "  .colab-df-quickchart {\n",
              "    background-color: var(--bg-color);\n",
              "    border: none;\n",
              "    border-radius: 50%;\n",
              "    cursor: pointer;\n",
              "    display: none;\n",
              "    fill: var(--fill-color);\n",
              "    height: 32px;\n",
              "    padding: 0;\n",
              "    width: 32px;\n",
              "  }\n",
              "\n",
              "  .colab-df-quickchart:hover {\n",
              "    background-color: var(--hover-bg-color);\n",
              "    box-shadow: 0 1px 2px rgba(60, 64, 67, 0.3), 0 1px 3px 1px rgba(60, 64, 67, 0.15);\n",
              "    fill: var(--button-hover-fill-color);\n",
              "  }\n",
              "\n",
              "  .colab-df-quickchart-complete:disabled,\n",
              "  .colab-df-quickchart-complete:disabled:hover {\n",
              "    background-color: var(--disabled-bg-color);\n",
              "    fill: var(--disabled-fill-color);\n",
              "    box-shadow: none;\n",
              "  }\n",
              "\n",
              "  .colab-df-spinner {\n",
              "    border: 2px solid var(--fill-color);\n",
              "    border-color: transparent;\n",
              "    border-bottom-color: var(--fill-color);\n",
              "    animation:\n",
              "      spin 1s steps(1) infinite;\n",
              "  }\n",
              "\n",
              "  @keyframes spin {\n",
              "    0% {\n",
              "      border-color: transparent;\n",
              "      border-bottom-color: var(--fill-color);\n",
              "      border-left-color: var(--fill-color);\n",
              "    }\n",
              "    20% {\n",
              "      border-color: transparent;\n",
              "      border-left-color: var(--fill-color);\n",
              "      border-top-color: var(--fill-color);\n",
              "    }\n",
              "    30% {\n",
              "      border-color: transparent;\n",
              "      border-left-color: var(--fill-color);\n",
              "      border-top-color: var(--fill-color);\n",
              "      border-right-color: var(--fill-color);\n",
              "    }\n",
              "    40% {\n",
              "      border-color: transparent;\n",
              "      border-right-color: var(--fill-color);\n",
              "      border-top-color: var(--fill-color);\n",
              "    }\n",
              "    60% {\n",
              "      border-color: transparent;\n",
              "      border-right-color: var(--fill-color);\n",
              "    }\n",
              "    80% {\n",
              "      border-color: transparent;\n",
              "      border-right-color: var(--fill-color);\n",
              "      border-bottom-color: var(--fill-color);\n",
              "    }\n",
              "    90% {\n",
              "      border-color: transparent;\n",
              "      border-bottom-color: var(--fill-color);\n",
              "    }\n",
              "  }\n",
              "</style>\n",
              "\n",
              "  <script>\n",
              "    async function quickchart(key) {\n",
              "      const quickchartButtonEl =\n",
              "        document.querySelector('#' + key + ' button');\n",
              "      quickchartButtonEl.disabled = true;  // To prevent multiple clicks.\n",
              "      quickchartButtonEl.classList.add('colab-df-spinner');\n",
              "      try {\n",
              "        const charts = await google.colab.kernel.invokeFunction(\n",
              "            'suggestCharts', [key], {});\n",
              "      } catch (error) {\n",
              "        console.error('Error during call to suggestCharts:', error);\n",
              "      }\n",
              "      quickchartButtonEl.classList.remove('colab-df-spinner');\n",
              "      quickchartButtonEl.classList.add('colab-df-quickchart-complete');\n",
              "    }\n",
              "    (() => {\n",
              "      let quickchartButtonEl =\n",
              "        document.querySelector('#df-9e3e2c20-f638-4f6d-8677-adee303a6658 button');\n",
              "      quickchartButtonEl.style.display =\n",
              "        google.colab.kernel.accessAllowed ? 'block' : 'none';\n",
              "    })();\n",
              "  </script>\n",
              "</div>\n",
              "\n",
              "    </div>\n",
              "  </div>\n"
            ],
            "application/vnd.google.colaboratory.intrinsic+json": {
              "type": "dataframe",
              "variable_name": "df",
              "summary": "{\n  \"name\": \"df\",\n  \"rows\": 1281,\n  \"fields\": [\n    {\n      \"column\": \"WBC\",\n      \"properties\": {\n        \"dtype\": \"number\",\n        \"std\": 3.5644657236981,\n        \"min\": 0.8,\n        \"max\": 45.7,\n        \"num_unique_values\": 278,\n        \"samples\": [\n          7.0,\n          3.92,\n          5.31\n        ],\n        \"semantic_type\": \"\",\n        \"description\": \"\"\n      }\n    },\n    {\n      \"column\": \"LYMp\",\n      \"properties\": {\n        \"dtype\": \"number\",\n        \"std\": 7.03872755168681,\n        \"min\": 6.2,\n        \"max\": 91.4,\n        \"num_unique_values\": 263,\n        \"samples\": [\n          21.1,\n          39.2,\n          34.4\n        ],\n        \"semantic_type\": \"\",\n        \"description\": \"\"\n      }\n    },\n    {\n      \"column\": \"NEUTp\",\n      \"properties\": {\n        \"dtype\": \"number\",\n        \"std\": 147.7462730322558,\n        \"min\": 0.7,\n        \"max\": 5317.0,\n        \"num_unique_values\": 267,\n        \"samples\": [\n          59.5,\n          65.9,\n          70.9\n        ],\n        \"semantic_type\": \"\",\n        \"description\": \"\"\n      }\n    },\n    {\n      \"column\": \"LYMn\",\n      \"properties\": {\n        \"dtype\": \"number\",\n        \"std\": 1.3356889933195526,\n        \"min\": 0.2,\n        \"max\": 41.8,\n        \"num_unique_values\": 51,\n        \"samples\": [\n          4.9,\n          14.0,\n          0.2\n        ],\n        \"semantic_type\": \"\",\n        \"description\": \"\"\n      }\n    },\n    {\n      \"column\": \"NEUTn\",\n      \"properties\": {\n        \"dtype\": \"number\",\n        \"std\": 2.872293679791248,\n        \"min\": 0.5,\n        \"max\": 79.0,\n        \"num_unique_values\": 103,\n        \"samples\": [\n          2.9,\n          5.1,\n          4.8\n        ],\n        \"semantic_type\": \"\",\n        \"description\": \"\"\n      }\n    },\n    {\n      \"column\": \"RBC\",\n      \"properties\": {\n        \"dtype\": \"number\",\n        \"std\": 2.8172003989850576,\n        \"min\": 1.36,\n        \"max\": 90.8,\n        \"num_unique_values\": 272,\n        \"samples\": [\n          5.08,\n          4.43,\n          4.02\n        ],\n        \"semantic_type\": \"\",\n        \"description\": \"\"\n      }\n    },\n    {\n      \"column\": \"HGB\",\n      \"properties\": {\n        \"dtype\": \"number\",\n        \"std\": 3.812897189033727,\n        \"min\": -10.0,\n        \"max\": 87.1,\n        \"num_unique_values\": 116,\n        \"samples\": [\n          15.3,\n          8.8,\n          11.8\n        ],\n        \"semantic_type\": \"\",\n        \"description\": \"\"\n      }\n    },\n    {\n      \"column\": \"HCT\",\n      \"properties\": {\n        \"dtype\": \"number\",\n        \"std\": 104.88610000339358,\n        \"min\": 2.0,\n        \"max\": 3715.0,\n        \"num_unique_values\": 206,\n        \"samples\": [\n          45.2,\n          38.9,\n          40.4\n        ],\n        \"semantic_type\": \"\",\n        \"description\": \"\"\n      }\n    },\n    {\n      \"column\": \"MCV\",\n      \"properties\": {\n        \"dtype\": \"number\",\n        \"std\": 27.177663383275863,\n        \"min\": -79.3,\n        \"max\": 990.0,\n        \"num_unique_values\": 317,\n        \"samples\": [\n          76.7,\n          63.2,\n          85.2\n        ],\n        \"semantic_type\": \"\",\n        \"description\": \"\"\n      }\n    },\n    {\n      \"column\": \"MCH\",\n      \"properties\": {\n        \"dtype\": \"number\",\n        \"std\": 111.17075617529844,\n        \"min\": 10.9,\n        \"max\": 3117.0,\n        \"num_unique_values\": 191,\n        \"samples\": [\n          33.1,\n          26.0,\n          35.2\n        ],\n        \"semantic_type\": \"\",\n        \"description\": \"\"\n      }\n    },\n    {\n      \"column\": \"MCHC\",\n      \"properties\": {\n        \"dtype\": \"number\",\n        \"std\": 3.300351990285641,\n        \"min\": 11.5,\n        \"max\": 92.8,\n        \"num_unique_values\": 126,\n        \"samples\": [\n          33.4,\n          31.1,\n          39.4\n        ],\n        \"semantic_type\": \"\",\n        \"description\": \"\"\n      }\n    },\n    {\n      \"column\": \"PLT\",\n      \"properties\": {\n        \"dtype\": \"number\",\n        \"std\": 93.01933568238567,\n        \"min\": 10.0,\n        \"max\": 660.0,\n        \"num_unique_values\": 291,\n        \"samples\": [\n          168.0,\n          281.0,\n          177.0\n        ],\n        \"semantic_type\": \"\",\n        \"description\": \"\"\n      }\n    },\n    {\n      \"column\": \"PDW\",\n      \"properties\": {\n        \"dtype\": \"number\",\n        \"std\": 3.005078624424339,\n        \"min\": 8.4,\n        \"max\": 97.0,\n        \"num_unique_values\": 104,\n        \"samples\": [\n          9.7,\n          15.8,\n          16.0\n        ],\n        \"semantic_type\": \"\",\n        \"description\": \"\"\n      }\n    },\n    {\n      \"column\": \"PCT\",\n      \"properties\": {\n        \"dtype\": \"number\",\n        \"std\": 0.6853505950424206,\n        \"min\": 0.01,\n        \"max\": 13.6,\n        \"num_unique_values\": 40,\n        \"samples\": [\n          0.1,\n          0.23,\n          0.11\n        ],\n        \"semantic_type\": \"\",\n        \"description\": \"\"\n      }\n    },\n    {\n      \"column\": \"Diagnosis\",\n      \"properties\": {\n        \"dtype\": \"category\",\n        \"num_unique_values\": 9,\n        \"samples\": [\n          \"Leukemia with thrombocytopenia\",\n          \"Iron deficiency anemia\",\n          \"Thrombocytopenia\"\n        ],\n        \"semantic_type\": \"\",\n        \"description\": \"\"\n      }\n    }\n  ]\n}"
            }
          },
          "metadata": {},
          "execution_count": 7
        }
      ]
    },
    {
      "cell_type": "code",
      "source": [
        "# Melihat ukuran dataframe, yaitu jumlah baris dan kolom\n",
        "print(\"DataFrame shape :\",df.shape)"
      ],
      "metadata": {
        "colab": {
          "base_uri": "https://localhost:8080/"
        },
        "id": "3YRRxXiRCbGb",
        "outputId": "5a163018-c5fe-4179-98be-6a87cb13de87"
      },
      "execution_count": null,
      "outputs": [
        {
          "output_type": "stream",
          "name": "stdout",
          "text": [
            "DataFrame shape : (1281, 15)\n"
          ]
        }
      ]
    },
    {
      "cell_type": "code",
      "source": [
        "# Menampilkan informasi dari dataset, seperti tipe data, jumlah nilai null serta nama kolom\n",
        "df.info()"
      ],
      "metadata": {
        "colab": {
          "base_uri": "https://localhost:8080/"
        },
        "id": "2fg64MyJDZCn",
        "outputId": "983d4565-72dd-40ec-dfee-ef06f0654b09"
      },
      "execution_count": null,
      "outputs": [
        {
          "output_type": "stream",
          "name": "stdout",
          "text": [
            "<class 'pandas.core.frame.DataFrame'>\n",
            "RangeIndex: 1281 entries, 0 to 1280\n",
            "Data columns (total 15 columns):\n",
            " #   Column     Non-Null Count  Dtype  \n",
            "---  ------     --------------  -----  \n",
            " 0   WBC        1281 non-null   float64\n",
            " 1   LYMp       1281 non-null   float64\n",
            " 2   NEUTp      1281 non-null   float64\n",
            " 3   LYMn       1281 non-null   float64\n",
            " 4   NEUTn      1281 non-null   float64\n",
            " 5   RBC        1281 non-null   float64\n",
            " 6   HGB        1281 non-null   float64\n",
            " 7   HCT        1281 non-null   float64\n",
            " 8   MCV        1281 non-null   float64\n",
            " 9   MCH        1281 non-null   float64\n",
            " 10  MCHC       1281 non-null   float64\n",
            " 11  PLT        1281 non-null   float64\n",
            " 12  PDW        1281 non-null   float64\n",
            " 13  PCT        1281 non-null   float64\n",
            " 14  Diagnosis  1281 non-null   object \n",
            "dtypes: float64(14), object(1)\n",
            "memory usage: 150.2+ KB\n"
          ]
        }
      ]
    },
    {
      "cell_type": "code",
      "source": [
        "# Menghitung jumlah nilai yang hilang (NaN atau null)\n",
        "df.isna().sum()"
      ],
      "metadata": {
        "colab": {
          "base_uri": "https://localhost:8080/"
        },
        "id": "bYG7FWLfDZt6",
        "outputId": "8154666f-1ea2-4dfe-fb03-f8df713d27e4"
      },
      "execution_count": null,
      "outputs": [
        {
          "output_type": "execute_result",
          "data": {
            "text/plain": [
              "WBC          0\n",
              "LYMp         0\n",
              "NEUTp        0\n",
              "LYMn         0\n",
              "NEUTn        0\n",
              "RBC          0\n",
              "HGB          0\n",
              "HCT          0\n",
              "MCV          0\n",
              "MCH          0\n",
              "MCHC         0\n",
              "PLT          0\n",
              "PDW          0\n",
              "PCT          0\n",
              "Diagnosis    0\n",
              "dtype: int64"
            ]
          },
          "metadata": {},
          "execution_count": 10
        }
      ]
    },
    {
      "cell_type": "code",
      "source": [
        "# Memeriksa apakah ada baris duplikat di dalam dataframe\n",
        "df.duplicated()"
      ],
      "metadata": {
        "colab": {
          "base_uri": "https://localhost:8080/"
        },
        "id": "3Ni59TM8DdMo",
        "outputId": "51a778a3-caea-42c5-f578-99d4ae2c86b5"
      },
      "execution_count": null,
      "outputs": [
        {
          "output_type": "execute_result",
          "data": {
            "text/plain": [
              "0       False\n",
              "1       False\n",
              "2       False\n",
              "3       False\n",
              "4       False\n",
              "        ...  \n",
              "1276    False\n",
              "1277    False\n",
              "1278    False\n",
              "1279    False\n",
              "1280    False\n",
              "Length: 1281, dtype: bool"
            ]
          },
          "metadata": {},
          "execution_count": 11
        }
      ]
    },
    {
      "cell_type": "markdown",
      "source": [
        "# Visualisasi Data"
      ],
      "metadata": {
        "id": "aciPsEPFD4ZR"
      }
    },
    {
      "cell_type": "code",
      "source": [
        "# Menampilkan jumlah dari setiap jenis anemia\n",
        "jenis_anemia = df['Diagnosis'].value_counts()\n",
        "\n",
        "plt.figure(figsize=(10, 7))\n",
        "jenis_anemia.plot(kind='bar', color=plt.cm.Set2.colors)\n",
        "plt.title('Jumlah dari Setiap Jenis Anemia')\n",
        "plt.xlabel('Jenis Anemia')\n",
        "plt.ylabel('Jumlah')\n",
        "plt.xticks(rotation=90)\n",
        "plt.show()"
      ],
      "metadata": {
        "colab": {
          "base_uri": "https://localhost:8080/",
          "height": 867
        },
        "id": "cLOfbTnZDeEH",
        "outputId": "657cb5f7-9183-4dc3-a27a-903ae5ef91d3"
      },
      "execution_count": null,
      "outputs": [
        {
          "output_type": "display_data",
          "data": {
            "text/plain": [
              "<Figure size 1000x700 with 1 Axes>"
            ],
            "image/png": "[encoded data removed]"
          },
          "metadata": {}
        }
      ]
    },
    {
      "cell_type": "markdown",
      "source": [
        "# Data Cleaning"
      ],
      "metadata": {
        "id": "cUDWF_kcFIHv"
      }
    },
    {
      "cell_type": "code",
      "source": [
        "# Mengidentifikasi kolom numerik dan kolom categorical berdasarkan tipe datanya\n",
        "numerical = []\n",
        "catgcols = []\n",
        "\n",
        "for col in df.columns:\n",
        "    if df[col].dtype==\"int64\":\n",
        "        numerical.append(col)\n",
        "    elif df[col].dtype==\"float64\":\n",
        "        numerical.append(col)\n",
        "    else:\n",
        "        catgcols.append(col)\n",
        "\n",
        "\n",
        "for col in df.columns:\n",
        "    if col in numerical:\n",
        "        df[col].fillna(df[col].median(), inplace=True)\n",
        "    else:\n",
        "        df[col].fillna(df[col].mode()[0], inplace=True)"
      ],
      "metadata": {
        "id": "N9GmAz63FKHH"
      },
      "execution_count": null,
      "outputs": []
    },
    {
      "cell_type": "code",
      "source": [
        "numerical"
      ],
      "metadata": {
        "id": "hpPdrxEvFVyR",
        "colab": {
          "base_uri": "https://localhost:8080/"
        },
        "outputId": "1f5eec5a-6a3a-40de-e673-4adf59f6f450"
      },
      "execution_count": null,
      "outputs": [
        {
          "output_type": "execute_result",
          "data": {
            "text/plain": [
              "['WBC',\n",
              " 'LYMp',\n",
              " 'NEUTp',\n",
              " 'LYMn',\n",
              " 'NEUTn',\n",
              " 'RBC',\n",
              " 'HGB',\n",
              " 'HCT',\n",
              " 'MCV',\n",
              " 'MCH',\n",
              " 'MCHC',\n",
              " 'PLT',\n",
              " 'PDW',\n",
              " 'PCT']"
            ]
          },
          "metadata": {},
          "execution_count": 14
        }
      ]
    },
    {
      "cell_type": "code",
      "source": [
        "catgcols"
      ],
      "metadata": {
        "id": "PffkjdwoGM3E",
        "colab": {
          "base_uri": "https://localhost:8080/"
        },
        "outputId": "c81d78f0-92c6-4b45-d5aa-0d664a54febf"
      },
      "execution_count": null,
      "outputs": [
        {
          "output_type": "execute_result",
          "data": {
            "text/plain": [
              "['Diagnosis']"
            ]
          },
          "metadata": {},
          "execution_count": 15
        }
      ]
    },
    {
      "cell_type": "markdown",
      "source": [
        "# Data Preparation"
      ],
      "metadata": {
        "id": "4qFYX6eOGIZo"
      }
    },
    {
      "cell_type": "code",
      "source": [
        "# Memisahkan kolom fitur dan label\n",
        "ind_col = [col for col in df.columns if col != 'Diagnosis']\n",
        "dep_col = 'Diagnosis'"
      ],
      "metadata": {
        "id": "p9jkDYsnFaw_"
      },
      "execution_count": null,
      "outputs": []
    },
    {
      "cell_type": "code",
      "source": [
        "# Mengubah data categorical menjadi numerik\n",
        "le = LabelEncoder()\n",
        "\n",
        "for col in catgcols:\n",
        "    df[col] = le.fit_transform(df[col].values)"
      ],
      "metadata": {
        "id": "RbkwHnCkFxeW"
      },
      "execution_count": null,
      "outputs": []
    },
    {
      "cell_type": "code",
      "source": [
        "# Menampilkan data teratas setelah diubah\n",
        "df.head()"
      ],
      "metadata": {
        "id": "AG-xNv6tHDmC",
        "colab": {
          "base_uri": "https://localhost:8080/",
          "height": 206
        },
        "outputId": "4a0270a7-5bfd-455f-acc4-5e690330f2d1"
      },
      "execution_count": null,
      "outputs": [
        {
          "output_type": "execute_result",
          "data": {
            "text/plain": [
              "    WBC  LYMp  NEUTp  LYMn  NEUTn   RBC  HGB    HCT   MCV   MCH  MCHC    PLT  \\\n",
              "0  10.0  43.2   50.1   4.3    5.0  2.77  7.3   24.2  87.7  26.3  30.1  189.0   \n",
              "1  10.0  42.4   52.3   4.2    5.3  2.84  7.3   25.0  88.2  25.7  20.2  180.0   \n",
              "2   7.2  30.7   60.7   2.2    4.4  3.97  9.0   30.5  77.0  22.6  29.5  148.0   \n",
              "3   6.0  30.2   63.5   1.8    3.8  4.22  3.8   32.8  77.9  23.2  29.8  143.0   \n",
              "4   4.2  39.1   53.7   1.6    2.3  3.93  0.4  316.0  80.6  23.9  29.7  236.0   \n",
              "\n",
              "    PDW   PCT  Diagnosis  \n",
              "0  12.5  0.17          5  \n",
              "1  12.5  0.16          5  \n",
              "2  14.3  0.14          1  \n",
              "3  11.3  0.12          1  \n",
              "4  12.8  0.22          5  "
            ],
            "text/html": [
              "\n",
              "  <div id=\"df-043e07df-17ec-4894-a21a-c43caf1e5298\" class=\"colab-df-container\">\n",
              "    <div>\n",
              "<style scoped>\n",
              "    .dataframe tbody tr th:only-of-type {\n",
              "        vertical-align: middle;\n",
              "    }\n",
              "\n",
              "    .dataframe tbody tr th {\n",
              "        vertical-align: top;\n",
              "    }\n",
              "\n",
              "    .dataframe thead th {\n",
              "        text-align: right;\n",
              "    }\n",
              "</style>\n",
              "<table border=\"1\" class=\"dataframe\">\n",
              "  <thead>\n",
              "    <tr style=\"text-align: right;\">\n",
              "      <th></th>\n",
              "      <th>WBC</th>\n",
              "      <th>LYMp</th>\n",
              "      <th>NEUTp</th>\n",
              "      <th>LYMn</th>\n",
              "      <th>NEUTn</th>\n",
              "      <th>RBC</th>\n",
              "      <th>HGB</th>\n",
              "      <th>HCT</th>\n",
              "      <th>MCV</th>\n",
              "      <th>MCH</th>\n",
              "      <th>MCHC</th>\n",
              "      <th>PLT</th>\n",
              "      <th>PDW</th>\n",
              "      <th>PCT</th>\n",
              "      <th>Diagnosis</th>\n",
              "    </tr>\n",
              "  </thead>\n",
              "  <tbody>\n",
              "    <tr>\n",
              "      <th>0</th>\n",
              "      <td>10.0</td>\n",
              "      <td>43.2</td>\n",
              "      <td>50.1</td>\n",
              "      <td>4.3</td>\n",
              "      <td>5.0</td>\n",
              "      <td>2.77</td>\n",
              "      <td>7.3</td>\n",
              "      <td>24.2</td>\n",
              "      <td>87.7</td>\n",
              "      <td>26.3</td>\n",
              "      <td>30.1</td>\n",
              "      <td>189.0</td>\n",
              "      <td>12.5</td>\n",
              "      <td>0.17</td>\n",
              "      <td>5</td>\n",
              "    </tr>\n",
              "    <tr>\n",
              "      <th>1</th>\n",
              "      <td>10.0</td>\n",
              "      <td>42.4</td>\n",
              "      <td>52.3</td>\n",
              "      <td>4.2</td>\n",
              "      <td>5.3</td>\n",
              "      <td>2.84</td>\n",
              "      <td>7.3</td>\n",
              "      <td>25.0</td>\n",
              "      <td>88.2</td>\n",
              "      <td>25.7</td>\n",
              "      <td>20.2</td>\n",
              "      <td>180.0</td>\n",
              "      <td>12.5</td>\n",
              "      <td>0.16</td>\n",
              "      <td>5</td>\n",
              "    </tr>\n",
              "    <tr>\n",
              "      <th>2</th>\n",
              "      <td>7.2</td>\n",
              "      <td>30.7</td>\n",
              "      <td>60.7</td>\n",
              "      <td>2.2</td>\n",
              "      <td>4.4</td>\n",
              "      <td>3.97</td>\n",
              "      <td>9.0</td>\n",
              "      <td>30.5</td>\n",
              "      <td>77.0</td>\n",
              "      <td>22.6</td>\n",
              "      <td>29.5</td>\n",
              "      <td>148.0</td>\n",
              "      <td>14.3</td>\n",
              "      <td>0.14</td>\n",
              "      <td>1</td>\n",
              "    </tr>\n",
              "    <tr>\n",
              "      <th>3</th>\n",
              "      <td>6.0</td>\n",
              "      <td>30.2</td>\n",
              "      <td>63.5</td>\n",
              "      <td>1.8</td>\n",
              "      <td>3.8</td>\n",
              "      <td>4.22</td>\n",
              "      <td>3.8</td>\n",
              "      <td>32.8</td>\n",
              "      <td>77.9</td>\n",
              "      <td>23.2</td>\n",
              "      <td>29.8</td>\n",
              "      <td>143.0</td>\n",
              "      <td>11.3</td>\n",
              "      <td>0.12</td>\n",
              "      <td>1</td>\n",
              "    </tr>\n",
              "    <tr>\n",
              "      <th>4</th>\n",
              "      <td>4.2</td>\n",
              "      <td>39.1</td>\n",
              "      <td>53.7</td>\n",
              "      <td>1.6</td>\n",
              "      <td>2.3</td>\n",
              "      <td>3.93</td>\n",
              "      <td>0.4</td>\n",
              "      <td>316.0</td>\n",
              "      <td>80.6</td>\n",
              "      <td>23.9</td>\n",
              "      <td>29.7</td>\n",
              "      <td>236.0</td>\n",
              "      <td>12.8</td>\n",
              "      <td>0.22</td>\n",
              "      <td>5</td>\n",
              "    </tr>\n",
              "  </tbody>\n",
              "</table>\n",
              "</div>\n",
              "    <div class=\"colab-df-buttons\">\n",
              "\n",
              "  <div class=\"colab-df-container\">\n",
              "    <button class=\"colab-df-convert\" onclick=\"convertToInteractive('df-043e07df-17ec-4894-a21a-c43caf1e5298')\"\n",
              "            title=\"Convert this dataframe to an interactive table.\"\n",
              "            style=\"display:none;\">\n",
              "\n",
              "  <svg xmlns=\"http://www.w3.org/2000/svg\" height=\"24px\" viewBox=\"0 -960 960 960\">\n",
              "    <path d=\"M120-120v-720h720v720H120Zm60-500h600v-160H180v160Zm220 220h160v-160H400v160Zm0 220h160v-160H400v160ZM180-400h160v-160H180v160Zm440 0h160v-160H620v160ZM180-180h160v-160H180v160Zm440 0h160v-160H620v160Z\"/>\n",
              "  </svg>\n",
              "    </button>\n",
              "\n",
              "  <style>\n",
              "    .colab-df-container {\n",
              "      display:flex;\n",
              "      gap: 12px;\n",
              "    }\n",
              "\n",
              "    .colab-df-convert {\n",
              "      background-color: #E8F0FE;\n",
              "      border: none;\n",
              "      border-radius: 50%;\n",
              "      cursor: pointer;\n",
              "      display: none;\n",
              "      fill: #1967D2;\n",
              "      height: 32px;\n",
              "      padding: 0 0 0 0;\n",
              "      width: 32px;\n",
              "    }\n",
              "\n",
              "    .colab-df-convert:hover {\n",
              "      background-color: #E2EBFA;\n",
              "      box-shadow: 0px 1px 2px rgba(60, 64, 67, 0.3), 0px 1px 3px 1px rgba(60, 64, 67, 0.15);\n",
              "      fill: #174EA6;\n",
              "    }\n",
              "\n",
              "    .colab-df-buttons div {\n",
              "      margin-bottom: 4px;\n",
              "    }\n",
              "\n",
              "    [theme=dark] .colab-df-convert {\n",
              "      background-color: #3B4455;\n",
              "      fill: #D2E3FC;\n",
              "    }\n",
              "\n",
              "    [theme=dark] .colab-df-convert:hover {\n",
              "      background-color: #434B5C;\n",
              "      box-shadow: 0px 1px 3px 1px rgba(0, 0, 0, 0.15);\n",
              "      filter: drop-shadow(0px 1px 2px rgba(0, 0, 0, 0.3));\n",
              "      fill: #FFFFFF;\n",
              "    }\n",
              "  </style>\n",
              "\n",
              "    <script>\n",
              "      const buttonEl =\n",
              "        document.querySelector('#df-043e07df-17ec-4894-a21a-c43caf1e5298 button.colab-df-convert');\n",
              "      buttonEl.style.display =\n",
              "        google.colab.kernel.accessAllowed ? 'block' : 'none';\n",
              "\n",
              "      async function convertToInteractive(key) {\n",
              "        const element = document.querySelector('#df-043e07df-17ec-4894-a21a-c43caf1e5298');\n",
              "        const dataTable =\n",
              "          await google.colab.kernel.invokeFunction('convertToInteractive',\n",
              "                                                    [key], {});\n",
              "        if (!dataTable) return;\n",
              "\n",
              "        const docLinkHtml = 'Like what you see? Visit the ' +\n",
              "          '<a target=\"_blank\" href=https://colab.research.google.com/notebooks/data_table.ipynb>data table notebook</a>'\n",
              "          + ' to learn more about interactive tables.';\n",
              "        element.innerHTML = '';\n",
              "        dataTable['output_type'] = 'display_data';\n",
              "        await google.colab.output.renderOutput(dataTable, element);\n",
              "        const docLink = document.createElement('div');\n",
              "        docLink.innerHTML = docLinkHtml;\n",
              "        element.appendChild(docLink);\n",
              "      }\n",
              "    </script>\n",
              "  </div>\n",
              "\n",
              "\n",
              "<div id=\"df-c225feae-7bee-4898-8c53-de409086ffd2\">\n",
              "  <button class=\"colab-df-quickchart\" onclick=\"quickchart('df-c225feae-7bee-4898-8c53-de409086ffd2')\"\n",
              "            title=\"Suggest charts\"\n",
              "            style=\"display:none;\">\n",
              "\n",
              "<svg xmlns=\"http://www.w3.org/2000/svg\" height=\"24px\"viewBox=\"0 0 24 24\"\n",
              "     width=\"24px\">\n",
              "    <g>\n",
              "        <path d=\"M19 3H5c-1.1 0-2 .9-2 2v14c0 1.1.9 2 2 2h14c1.1 0 2-.9 2-2V5c0-1.1-.9-2-2-2zM9 17H7v-7h2v7zm4 0h-2V7h2v10zm4 0h-2v-4h2v4z\"/>\n",
              "    </g>\n",
              "</svg>\n",
              "  </button>\n",
              "\n",
              "<style>\n",
              "  .colab-df-quickchart {\n",
              "      --bg-color: #E8F0FE;\n",
              "      --fill-color: #1967D2;\n",
              "      --hover-bg-color: #E2EBFA;\n",
              "      --hover-fill-color: #174EA6;\n",
              "      --disabled-fill-color: #AAA;\n",
              "      --disabled-bg-color: #DDD;\n",
              "  }\n",
              "\n",
              "  [theme=dark] .colab-df-quickchart {\n",
              "      --bg-color: #3B4455;\n",
              "      --fill-color: #D2E3FC;\n",
              "      --hover-bg-color: #434B5C;\n",
              "      --hover-fill-color: #FFFFFF;\n",
              "      --disabled-bg-color: #3B4455;\n",
              "      --disabled-fill-color: #666;\n",
              "  }\n",
              "\n",
              "  .colab-df-quickchart {\n",
              "    background-color: var(--bg-color);\n",
              "    border: none;\n",
              "    border-radius: 50%;\n",
              "    cursor: pointer;\n",
              "    display: none;\n",
              "    fill: var(--fill-color);\n",
              "    height: 32px;\n",
              "    padding: 0;\n",
              "    width: 32px;\n",
              "  }\n",
              "\n",
              "  .colab-df-quickchart:hover {\n",
              "    background-color: var(--hover-bg-color);\n",
              "    box-shadow: 0 1px 2px rgba(60, 64, 67, 0.3), 0 1px 3px 1px rgba(60, 64, 67, 0.15);\n",
              "    fill: var(--button-hover-fill-color);\n",
              "  }\n",
              "\n",
              "  .colab-df-quickchart-complete:disabled,\n",
              "  .colab-df-quickchart-complete:disabled:hover {\n",
              "    background-color: var(--disabled-bg-color);\n",
              "    fill: var(--disabled-fill-color);\n",
              "    box-shadow: none;\n",
              "  }\n",
              "\n",
              "  .colab-df-spinner {\n",
              "    border: 2px solid var(--fill-color);\n",
              "    border-color: transparent;\n",
              "    border-bottom-color: var(--fill-color);\n",
              "    animation:\n",
              "      spin 1s steps(1) infinite;\n",
              "  }\n",
              "\n",
              "  @keyframes spin {\n",
              "    0% {\n",
              "      border-color: transparent;\n",
              "      border-bottom-color: var(--fill-color);\n",
              "      border-left-color: var(--fill-color);\n",
              "    }\n",
              "    20% {\n",
              "      border-color: transparent;\n",
              "      border-left-color: var(--fill-color);\n",
              "      border-top-color: var(--fill-color);\n",
              "    }\n",
              "    30% {\n",
              "      border-color: transparent;\n",
              "      border-left-color: var(--fill-color);\n",
              "      border-top-color: var(--fill-color);\n",
              "      border-right-color: var(--fill-color);\n",
              "    }\n",
              "    40% {\n",
              "      border-color: transparent;\n",
              "      border-right-color: var(--fill-color);\n",
              "      border-top-color: var(--fill-color);\n",
              "    }\n",
              "    60% {\n",
              "      border-color: transparent;\n",
              "      border-right-color: var(--fill-color);\n",
              "    }\n",
              "    80% {\n",
              "      border-color: transparent;\n",
              "      border-right-color: var(--fill-color);\n",
              "      border-bottom-color: var(--fill-color);\n",
              "    }\n",
              "    90% {\n",
              "      border-color: transparent;\n",
              "      border-bottom-color: var(--fill-color);\n",
              "    }\n",
              "  }\n",
              "</style>\n",
              "\n",
              "  <script>\n",
              "    async function quickchart(key) {\n",
              "      const quickchartButtonEl =\n",
              "        document.querySelector('#' + key + ' button');\n",
              "      quickchartButtonEl.disabled = true;  // To prevent multiple clicks.\n",
              "      quickchartButtonEl.classList.add('colab-df-spinner');\n",
              "      try {\n",
              "        const charts = await google.colab.kernel.invokeFunction(\n",
              "            'suggestCharts', [key], {});\n",
              "      } catch (error) {\n",
              "        console.error('Error during call to suggestCharts:', error);\n",
              "      }\n",
              "      quickchartButtonEl.classList.remove('colab-df-spinner');\n",
              "      quickchartButtonEl.classList.add('colab-df-quickchart-complete');\n",
              "    }\n",
              "    (() => {\n",
              "      let quickchartButtonEl =\n",
              "        document.querySelector('#df-c225feae-7bee-4898-8c53-de409086ffd2 button');\n",
              "      quickchartButtonEl.style.display =\n",
              "        google.colab.kernel.accessAllowed ? 'block' : 'none';\n",
              "    })();\n",
              "  </script>\n",
              "</div>\n",
              "\n",
              "    </div>\n",
              "  </div>\n"
            ],
            "application/vnd.google.colaboratory.intrinsic+json": {
              "type": "dataframe",
              "variable_name": "df",
              "summary": "{\n  \"name\": \"df\",\n  \"rows\": 1281,\n  \"fields\": [\n    {\n      \"column\": \"WBC\",\n      \"properties\": {\n        \"dtype\": \"number\",\n        \"std\": 3.5644657236981,\n        \"min\": 0.8,\n        \"max\": 45.7,\n        \"num_unique_values\": 278,\n        \"samples\": [\n          7.0,\n          3.92,\n          5.31\n        ],\n        \"semantic_type\": \"\",\n        \"description\": \"\"\n      }\n    },\n    {\n      \"column\": \"LYMp\",\n      \"properties\": {\n        \"dtype\": \"number\",\n        \"std\": 7.03872755168681,\n        \"min\": 6.2,\n        \"max\": 91.4,\n        \"num_unique_values\": 263,\n        \"samples\": [\n          21.1,\n          39.2,\n          34.4\n        ],\n        \"semantic_type\": \"\",\n        \"description\": \"\"\n      }\n    },\n    {\n      \"column\": \"NEUTp\",\n      \"properties\": {\n        \"dtype\": \"number\",\n        \"std\": 147.7462730322558,\n        \"min\": 0.7,\n        \"max\": 5317.0,\n        \"num_unique_values\": 267,\n        \"samples\": [\n          59.5,\n          65.9,\n          70.9\n        ],\n        \"semantic_type\": \"\",\n        \"description\": \"\"\n      }\n    },\n    {\n      \"column\": \"LYMn\",\n      \"properties\": {\n        \"dtype\": \"number\",\n        \"std\": 1.3356889933195526,\n        \"min\": 0.2,\n        \"max\": 41.8,\n        \"num_unique_values\": 51,\n        \"samples\": [\n          4.9,\n          14.0,\n          0.2\n        ],\n        \"semantic_type\": \"\",\n        \"description\": \"\"\n      }\n    },\n    {\n      \"column\": \"NEUTn\",\n      \"properties\": {\n        \"dtype\": \"number\",\n        \"std\": 2.872293679791248,\n        \"min\": 0.5,\n        \"max\": 79.0,\n        \"num_unique_values\": 103,\n        \"samples\": [\n          2.9,\n          5.1,\n          4.8\n        ],\n        \"semantic_type\": \"\",\n        \"description\": \"\"\n      }\n    },\n    {\n      \"column\": \"RBC\",\n      \"properties\": {\n        \"dtype\": \"number\",\n        \"std\": 2.8172003989850576,\n        \"min\": 1.36,\n        \"max\": 90.8,\n        \"num_unique_values\": 272,\n        \"samples\": [\n          5.08,\n          4.43,\n          4.02\n        ],\n        \"semantic_type\": \"\",\n        \"description\": \"\"\n      }\n    },\n    {\n      \"column\": \"HGB\",\n      \"properties\": {\n        \"dtype\": \"number\",\n        \"std\": 3.812897189033727,\n        \"min\": -10.0,\n        \"max\": 87.1,\n        \"num_unique_values\": 116,\n        \"samples\": [\n          15.3,\n          8.8,\n          11.8\n        ],\n        \"semantic_type\": \"\",\n        \"description\": \"\"\n      }\n    },\n    {\n      \"column\": \"HCT\",\n      \"properties\": {\n        \"dtype\": \"number\",\n        \"std\": 104.88610000339358,\n        \"min\": 2.0,\n        \"max\": 3715.0,\n        \"num_unique_values\": 206,\n        \"samples\": [\n          45.2,\n          38.9,\n          40.4\n        ],\n        \"semantic_type\": \"\",\n        \"description\": \"\"\n      }\n    },\n    {\n      \"column\": \"MCV\",\n      \"properties\": {\n        \"dtype\": \"number\",\n        \"std\": 27.177663383275863,\n        \"min\": -79.3,\n        \"max\": 990.0,\n        \"num_unique_values\": 317,\n        \"samples\": [\n          76.7,\n          63.2,\n          85.2\n        ],\n        \"semantic_type\": \"\",\n        \"description\": \"\"\n      }\n    },\n    {\n      \"column\": \"MCH\",\n      \"properties\": {\n        \"dtype\": \"number\",\n        \"std\": 111.17075617529844,\n        \"min\": 10.9,\n        \"max\": 3117.0,\n        \"num_unique_values\": 191,\n        \"samples\": [\n          33.1,\n          26.0,\n          35.2\n        ],\n        \"semantic_type\": \"\",\n        \"description\": \"\"\n      }\n    },\n    {\n      \"column\": \"MCHC\",\n      \"properties\": {\n        \"dtype\": \"number\",\n        \"std\": 3.300351990285641,\n        \"min\": 11.5,\n        \"max\": 92.8,\n        \"num_unique_values\": 126,\n        \"samples\": [\n          33.4,\n          31.1,\n          39.4\n        ],\n        \"semantic_type\": \"\",\n        \"description\": \"\"\n      }\n    },\n    {\n      \"column\": \"PLT\",\n      \"properties\": {\n        \"dtype\": \"number\",\n        \"std\": 93.01933568238567,\n        \"min\": 10.0,\n        \"max\": 660.0,\n        \"num_unique_values\": 291,\n        \"samples\": [\n          168.0,\n          281.0,\n          177.0\n        ],\n        \"semantic_type\": \"\",\n        \"description\": \"\"\n      }\n    },\n    {\n      \"column\": \"PDW\",\n      \"properties\": {\n        \"dtype\": \"number\",\n        \"std\": 3.005078624424339,\n        \"min\": 8.4,\n        \"max\": 97.0,\n        \"num_unique_values\": 104,\n        \"samples\": [\n          9.7,\n          15.8,\n          16.0\n        ],\n        \"semantic_type\": \"\",\n        \"description\": \"\"\n      }\n    },\n    {\n      \"column\": \"PCT\",\n      \"properties\": {\n        \"dtype\": \"number\",\n        \"std\": 0.6853505950424206,\n        \"min\": 0.01,\n        \"max\": 13.6,\n        \"num_unique_values\": 40,\n        \"samples\": [\n          0.1,\n          0.23,\n          0.11\n        ],\n        \"semantic_type\": \"\",\n        \"description\": \"\"\n      }\n    },\n    {\n      \"column\": \"Diagnosis\",\n      \"properties\": {\n        \"dtype\": \"number\",\n        \"std\": 2,\n        \"min\": 0,\n        \"max\": 8,\n        \"num_unique_values\": 9,\n        \"samples\": [\n          3,\n          1,\n          8\n        ],\n        \"semantic_type\": \"\",\n        \"description\": \"\"\n      }\n    }\n  ]\n}"
            }
          },
          "metadata": {},
          "execution_count": 18
        }
      ]
    },
    {
      "cell_type": "code",
      "source": [
        "# Memisahkan kolom fitur dan label\n",
        "X = df.drop(labels=['Diagnosis'], axis=1).values\n",
        "y = df['Diagnosis']"
      ],
      "metadata": {
        "id": "nb2dVkr4HM2B"
      },
      "execution_count": null,
      "outputs": []
    },
    {
      "cell_type": "code",
      "source": [
        "# Train test split data\n",
        "X_train, X_test, y_train, y_test = train_test_split(X, y, test_size=0.20)"
      ],
      "metadata": {
        "id": "hj4F4UO-H59B"
      },
      "execution_count": null,
      "outputs": []
    },
    {
      "cell_type": "markdown",
      "source": [
        "# Modeling"
      ],
      "metadata": {
        "id": "CrEcJ7foIRsq"
      }
    },
    {
      "cell_type": "code",
      "source": [
        "# Inisiasi model\n",
        "model = Sequential()\n",
        "\n",
        "# Layer ANN\n",
        "model.add(Dense(128, activation='relu', input_dim=X.shape[-1]))\n",
        "model.add(Dense(64, activation='relu'))\n",
        "model.add(Dense(32, activation='relu'))\n",
        "model.add(Dense(9, activation='softmax'))"
      ],
      "metadata": {
        "id": "vF-nCN7XIIe_"
      },
      "execution_count": null,
      "outputs": []
    },
    {
      "cell_type": "code",
      "source": [
        "# Menampilkan ringkasan dari arsitektur model\n",
        "model.summary()"
      ],
      "metadata": {
        "id": "Mu5j9WIuIjNP",
        "colab": {
          "base_uri": "https://localhost:8080/"
        },
        "outputId": "8263ce64-1398-46c4-b33d-b5201ca3fcf5"
      },
      "execution_count": null,
      "outputs": [
        {
          "output_type": "stream",
          "name": "stdout",
          "text": [
            "Model: \"sequential\"\n",
            "_________________________________________________________________\n",
            " Layer (type)                Output Shape              Param #   \n",
            "=================================================================\n",
            " dense (Dense)               (None, 128)               1920      \n",
            "                                                                 \n",
            " dense_1 (Dense)             (None, 64)                8256      \n",
            "                                                                 \n",
            " dense_2 (Dense)             (None, 32)                2080      \n",
            "                                                                 \n",
            " dense_3 (Dense)             (None, 9)                 297       \n",
            "                                                                 \n",
            "=================================================================\n",
            "Total params: 12553 (49.04 KB)\n",
            "Trainable params: 12553 (49.04 KB)\n",
            "Non-trainable params: 0 (0.00 Byte)\n",
            "_________________________________________________________________\n"
          ]
        }
      ]
    },
    {
      "cell_type": "code",
      "source": [
        "# Menampilkan plot model\n",
        "plot_model(model, show_shapes = True)"
      ],
      "metadata": {
        "id": "HAVk4r5eJAqP",
        "colab": {
          "base_uri": "https://localhost:8080/",
          "height": 533
        },
        "outputId": "43dad27f-d0b5-4cbb-8343-00b9563c9648"
      },
      "execution_count": null,
      "outputs": [
        {
          "output_type": "execute_result",
          "data": {
            "image/png": "[encoded data removed]",
            "text/plain": [
              "<IPython.core.display.Image object>"
            ]
          },
          "metadata": {},
          "execution_count": 23
        }
      ]
    },
    {
      "cell_type": "code",
      "source": [
        "# Kompilasi Model\n",
        "optim = Adam(lr=0.001)\n",
        "\n",
        "model.compile(\n",
        "    optimizer=optim,\n",
        "    loss='sparse_categorical_crossentropy',\n",
        "    metrics=['Accuracy']\n",
        "    )"
      ],
      "metadata": {
        "id": "HYGFHfMdJGlI",
        "colab": {
          "base_uri": "https://localhost:8080/"
        },
        "outputId": "c0f2c0f3-10d7-4012-b3f1-0871e003bfc3"
      },
      "execution_count": null,
      "outputs": [
        {
          "output_type": "stream",
          "name": "stderr",
          "text": [
            "WARNING:absl:`lr` is deprecated in Keras optimizer, please use `learning_rate` or use the legacy optimizer, e.g.,tf.keras.optimizers.legacy.Adam.\n"
          ]
        }
      ]
    },
    {
      "cell_type": "code",
      "source": [
        "# Pelatihan model\n",
        "history = model.fit(X_train, y_train,\n",
        "                    batch_size=1,\n",
        "                    epochs=50,\n",
        "                    verbose=1,\n",
        "                    shuffle=True,\n",
        "                    validation_split=0.1)"
      ],
      "metadata": {
        "id": "HYpY81mrJVLg",
        "colab": {
          "base_uri": "https://localhost:8080/"
        },
        "outputId": "39ae1d94-ce8a-4fcf-ce95-e4aa56ad9f75"
      },
      "execution_count": null,
      "outputs": [
        {
          "output_type": "stream",
          "name": "stdout",
          "text": [
            "Epoch 1/50\n",
            "921/921 [==============================] - 6s 4ms/step - loss: 3.2783 - Accuracy: 0.2953 - val_loss: 1.7427 - val_Accuracy: 0.4078\n",
            "Epoch 2/50\n",
            "921/921 [==============================] - 3s 3ms/step - loss: 1.8555 - Accuracy: 0.3529 - val_loss: 1.8334 - val_Accuracy: 0.3592\n",
            "Epoch 3/50\n",
            "921/921 [==============================] - 3s 3ms/step - loss: 1.7419 - Accuracy: 0.3789 - val_loss: 1.7450 - val_Accuracy: 0.4078\n",
            "Epoch 4/50\n",
            "921/921 [==============================] - 3s 3ms/step - loss: 1.6795 - Accuracy: 0.4072 - val_loss: 1.8730 - val_Accuracy: 0.3786\n",
            "Epoch 5/50\n",
            "921/921 [==============================] - 3s 3ms/step - loss: 1.5828 - Accuracy: 0.3974 - val_loss: 1.6102 - val_Accuracy: 0.4563\n",
            "Epoch 6/50\n",
            "921/921 [==============================] - 4s 4ms/step - loss: 1.5082 - Accuracy: 0.4419 - val_loss: 6.2913 - val_Accuracy: 0.4369\n",
            "Epoch 7/50\n",
            "921/921 [==============================] - 3s 3ms/step - loss: 1.5499 - Accuracy: 0.4723 - val_loss: 1.6942 - val_Accuracy: 0.4272\n",
            "Epoch 8/50\n",
            "921/921 [==============================] - 3s 3ms/step - loss: 1.4159 - Accuracy: 0.5114 - val_loss: 4.0287 - val_Accuracy: 0.4175\n",
            "Epoch 9/50\n",
            "921/921 [==============================] - 3s 3ms/step - loss: 1.3205 - Accuracy: 0.5212 - val_loss: 2.2867 - val_Accuracy: 0.5243\n",
            "Epoch 10/50\n",
            "921/921 [==============================] - 4s 4ms/step - loss: 1.2488 - Accuracy: 0.5570 - val_loss: 2.5779 - val_Accuracy: 0.5437\n",
            "Epoch 11/50\n",
            "921/921 [==============================] - 3s 3ms/step - loss: 1.2850 - Accuracy: 0.5820 - val_loss: 2.8905 - val_Accuracy: 0.5825\n",
            "Epoch 12/50\n",
            "921/921 [==============================] - 3s 3ms/step - loss: 1.1050 - Accuracy: 0.6102 - val_loss: 3.4558 - val_Accuracy: 0.5243\n",
            "Epoch 13/50\n",
            "921/921 [==============================] - 3s 3ms/step - loss: 1.0783 - Accuracy: 0.6156 - val_loss: 6.3158 - val_Accuracy: 0.4757\n",
            "Epoch 14/50\n",
            "921/921 [==============================] - 3s 3ms/step - loss: 0.9754 - Accuracy: 0.6428 - val_loss: 5.5214 - val_Accuracy: 0.5243\n",
            "Epoch 15/50\n",
            "921/921 [==============================] - 3s 3ms/step - loss: 1.0352 - Accuracy: 0.6710 - val_loss: 4.5696 - val_Accuracy: 0.6408\n",
            "Epoch 16/50\n",
            "921/921 [==============================] - 3s 3ms/step - loss: 0.9529 - Accuracy: 0.6623 - val_loss: 5.1129 - val_Accuracy: 0.6117\n",
            "Epoch 17/50\n",
            "921/921 [==============================] - 3s 3ms/step - loss: 0.9368 - Accuracy: 0.6699 - val_loss: 6.0968 - val_Accuracy: 0.5631\n",
            "Epoch 18/50\n",
            "921/921 [==============================] - 3s 3ms/step - loss: 0.8949 - Accuracy: 0.6906 - val_loss: 4.1542 - val_Accuracy: 0.6311\n",
            "Epoch 19/50\n",
            "921/921 [==============================] - 4s 4ms/step - loss: 1.0564 - Accuracy: 0.6786 - val_loss: 2.8988 - val_Accuracy: 0.6019\n",
            "Epoch 20/50\n",
            "921/921 [==============================] - 3s 3ms/step - loss: 0.8324 - Accuracy: 0.7112 - val_loss: 3.7322 - val_Accuracy: 0.5728\n",
            "Epoch 21/50\n",
            "921/921 [==============================] - 3s 3ms/step - loss: 0.8470 - Accuracy: 0.6862 - val_loss: 3.2535 - val_Accuracy: 0.6602\n",
            "Epoch 22/50\n",
            "921/921 [==============================] - 3s 3ms/step - loss: 0.8174 - Accuracy: 0.7177 - val_loss: 2.5474 - val_Accuracy: 0.7184\n",
            "Epoch 23/50\n",
            "921/921 [==============================] - 3s 4ms/step - loss: 0.8305 - Accuracy: 0.7036 - val_loss: 2.0744 - val_Accuracy: 0.6214\n",
            "Epoch 24/50\n",
            "921/921 [==============================] - 3s 3ms/step - loss: 0.8010 - Accuracy: 0.7101 - val_loss: 2.6293 - val_Accuracy: 0.6019\n",
            "Epoch 25/50\n",
            "921/921 [==============================] - 3s 3ms/step - loss: 0.8887 - Accuracy: 0.7101 - val_loss: 3.4240 - val_Accuracy: 0.6990\n",
            "Epoch 26/50\n",
            "921/921 [==============================] - 3s 3ms/step - loss: 0.8079 - Accuracy: 0.7079 - val_loss: 2.1583 - val_Accuracy: 0.6117\n",
            "Epoch 27/50\n",
            "921/921 [==============================] - 3s 3ms/step - loss: 0.7541 - Accuracy: 0.7307 - val_loss: 2.4213 - val_Accuracy: 0.6311\n",
            "Epoch 28/50\n",
            "921/921 [==============================] - 3s 3ms/step - loss: 0.7922 - Accuracy: 0.7123 - val_loss: 2.0011 - val_Accuracy: 0.7184\n",
            "Epoch 29/50\n",
            "921/921 [==============================] - 3s 3ms/step - loss: 0.7345 - Accuracy: 0.7448 - val_loss: 3.4319 - val_Accuracy: 0.6602\n",
            "Epoch 30/50\n",
            "921/921 [==============================] - 3s 3ms/step - loss: 0.7411 - Accuracy: 0.7362 - val_loss: 5.6775 - val_Accuracy: 0.6699\n",
            "Epoch 31/50\n",
            "921/921 [==============================] - 3s 3ms/step - loss: 0.7510 - Accuracy: 0.7253 - val_loss: 3.1022 - val_Accuracy: 0.7087\n",
            "Epoch 32/50\n",
            "921/921 [==============================] - 4s 4ms/step - loss: 0.7721 - Accuracy: 0.7112 - val_loss: 3.6993 - val_Accuracy: 0.7087\n",
            "Epoch 33/50\n",
            "921/921 [==============================] - 3s 3ms/step - loss: 0.7013 - Accuracy: 0.7535 - val_loss: 3.2671 - val_Accuracy: 0.7184\n",
            "Epoch 34/50\n",
            "921/921 [==============================] - 3s 3ms/step - loss: 0.7076 - Accuracy: 0.7438 - val_loss: 3.1461 - val_Accuracy: 0.6699\n",
            "Epoch 35/50\n",
            "921/921 [==============================] - 3s 3ms/step - loss: 0.7800 - Accuracy: 0.7481 - val_loss: 2.7638 - val_Accuracy: 0.7087\n",
            "Epoch 36/50\n",
            "921/921 [==============================] - 3s 4ms/step - loss: 0.7230 - Accuracy: 0.7503 - val_loss: 3.0308 - val_Accuracy: 0.7184\n",
            "Epoch 37/50\n",
            "921/921 [==============================] - 3s 3ms/step - loss: 0.6654 - Accuracy: 0.7633 - val_loss: 3.6969 - val_Accuracy: 0.6019\n",
            "Epoch 38/50\n",
            "921/921 [==============================] - 3s 3ms/step - loss: 0.6553 - Accuracy: 0.7633 - val_loss: 3.4958 - val_Accuracy: 0.7961\n",
            "Epoch 39/50\n",
            "921/921 [==============================] - 3s 3ms/step - loss: 0.6740 - Accuracy: 0.7394 - val_loss: 3.9651 - val_Accuracy: 0.6019\n",
            "Epoch 40/50\n",
            "921/921 [==============================] - 3s 3ms/step - loss: 0.6466 - Accuracy: 0.7676 - val_loss: 3.7921 - val_Accuracy: 0.5631\n",
            "Epoch 41/50\n",
            "921/921 [==============================] - 3s 3ms/step - loss: 0.6912 - Accuracy: 0.7427 - val_loss: 2.4969 - val_Accuracy: 0.7476\n",
            "Epoch 42/50\n",
            "921/921 [==============================] - 3s 3ms/step - loss: 0.6148 - Accuracy: 0.7655 - val_loss: 3.0045 - val_Accuracy: 0.7282\n",
            "Epoch 43/50\n",
            "921/921 [==============================] - 3s 3ms/step - loss: 0.6516 - Accuracy: 0.7524 - val_loss: 2.7766 - val_Accuracy: 0.7379\n",
            "Epoch 44/50\n",
            "921/921 [==============================] - 3s 3ms/step - loss: 0.6576 - Accuracy: 0.7622 - val_loss: 3.0457 - val_Accuracy: 0.6505\n",
            "Epoch 45/50\n",
            "921/921 [==============================] - 3s 4ms/step - loss: 0.6144 - Accuracy: 0.7698 - val_loss: 5.2562 - val_Accuracy: 0.6893\n",
            "Epoch 46/50\n",
            "921/921 [==============================] - 3s 3ms/step - loss: 0.7116 - Accuracy: 0.7568 - val_loss: 5.4799 - val_Accuracy: 0.6214\n",
            "Epoch 47/50\n",
            "921/921 [==============================] - 3s 3ms/step - loss: 0.7119 - Accuracy: 0.7633 - val_loss: 2.8556 - val_Accuracy: 0.7864\n",
            "Epoch 48/50\n",
            "921/921 [==============================] - 3s 3ms/step - loss: 0.6113 - Accuracy: 0.7785 - val_loss: 2.7298 - val_Accuracy: 0.7184\n",
            "Epoch 49/50\n",
            "921/921 [==============================] - 4s 4ms/step - loss: 0.6172 - Accuracy: 0.7731 - val_loss: 2.2684 - val_Accuracy: 0.7573\n",
            "Epoch 50/50\n",
            "921/921 [==============================] - 3s 3ms/step - loss: 0.5914 - Accuracy: 0.7785 - val_loss: 2.9901 - val_Accuracy: 0.7282\n"
          ]
        }
      ]
    },
    {
      "cell_type": "code",
      "source": [
        "# Hasil Akurasi\n",
        "pred = np.argmax(model.predict(X_test), axis=1)\n",
        "print(accuracy_score(y_test, pred))"
      ],
      "metadata": {
        "id": "AazaWLYVJd3X",
        "colab": {
          "base_uri": "https://localhost:8080/"
        },
        "outputId": "542476fa-bca5-4eb5-8c7a-651faab84af8"
      },
      "execution_count": null,
      "outputs": [
        {
          "output_type": "stream",
          "name": "stdout",
          "text": [
            "9/9 [==============================] - 0s 2ms/step\n",
            "0.7859922178988327\n"
          ]
        }
      ]
    },
    {
      "cell_type": "markdown",
      "source": [
        "# Save Model"
      ],
      "metadata": {
        "id": "P5dCrY1fJpHS"
      }
    },
    {
      "cell_type": "code",
      "source": [
        "# Menyimpan model ANN ke dalam file\n",
        "model.save('./anemiatypes.h5')"
      ],
      "metadata": {
        "id": "TnS99MiUJlfv",
        "colab": {
          "base_uri": "https://localhost:8080/"
        },
        "outputId": "127f96ee-45a9-4219-affb-f5a5d7961b38"
      },
      "execution_count": null,
      "outputs": [
        {
          "output_type": "stream",
          "name": "stderr",
          "text": [
            "/usr/local/lib/python3.10/dist-packages/keras/src/engine/training.py:3103: UserWarning: You are saving your model as an HDF5 file via `model.save()`. This file format is considered legacy. We recommend using instead the native Keras format, e.g. `model.save('my_model.keras')`.\n",
            "  saving_api.save_model(\n"
          ]
        }
      ]
    },
    {
      "cell_type": "code",
      "source": [
        "# Konversi model ke TensorFlow Lite\n",
        "model = tf.keras.models.load_model('./anemiatypes.h5')\n",
        "converter = tf.lite.TFLiteConverter.from_keras_model(model)\n",
        "converter.optimizations = [tf.lite.Optimize.DEFAULT]\n",
        "tflite_model = converter.convert()\n",
        "open(\"./anemiatypes.tflite\", \"wb\").write(tflite_model)"
      ],
      "metadata": {
        "id": "4zf0eLwOJ6gx",
        "colab": {
          "base_uri": "https://localhost:8080/"
        },
        "outputId": "90eae8c4-d171-49b4-cbce-1e13289fdc1e"
      },
      "execution_count": null,
      "outputs": [
        {
          "output_type": "execute_result",
          "data": {
            "text/plain": [
              "16776"
            ]
          },
          "metadata": {},
          "execution_count": 28
        }
      ]
    }
  ]
}